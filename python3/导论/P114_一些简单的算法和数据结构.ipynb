{
 "cells": [
  {
   "cell_type": "code",
   "execution_count": null,
   "metadata": {},
   "outputs": [],
   "source": [
    "# 搜索算法\n",
    "# 这里给出三个: 穷举法, 二分查找法, 牛顿-拉弗森法"
   ]
  },
  {
   "cell_type": "code",
   "execution_count": null,
   "metadata": {},
   "outputs": [],
   "source": [
    "# 线性搜索与间接引用元素\n",
    "# 在计算中最重要的实现技术之一: 间接引用. 一般来说, 间接引用就是, 要访问目标元素时, 先访问另一元素, 再通过包含在这个元素中的引用来访问目标元素. 每次使用变量引用与变量绑定的对象时, 就是这么做的. 当使用一个变量访问列表并使用保存在列表中的引用访问另一个对象时, 实际上进行了双重间接引用."
   ]
  }
 ],
 "metadata": {
  "language_info": {
   "codemirror_mode": {
    "name": "ipython",
    "version": 3
   },
   "file_extension": ".py",
   "mimetype": "text/x-python",
   "name": "python",
   "nbconvert_exporter": "python",
   "pygments_lexer": "ipython3",
   "version": 3
  },
  "orig_nbformat": 2
 },
 "nbformat": 4,
 "nbformat_minor": 2
}