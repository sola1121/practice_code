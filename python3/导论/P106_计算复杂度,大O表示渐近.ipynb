{
 "cells": [
  {
   "cell_type": "code",
   "execution_count": 2,
   "metadata": {},
   "outputs": [
    {
     "name": "stdout",
     "output_type": "stream",
     "text": [
      "常数1000: 1000\n",
      "线性变量x: 2000\n",
      "幂函数型: 2002000\n"
     ]
    }
   ],
   "source": [
    "# 工程师努力地减少了计算的复杂度, 却增加了概念复杂度. 为了以合理的凡是提高程序效率, 应该知道如何估计一个程序的计算复杂度.\n",
    "# 一般不以简单的时间单位进行度量, 而是以程序执行的基本步数为单位进行测量. 一步是指一个需要固定时间量的操作, 如赋值, 比较.\n",
    "# 使用渐进表示法讨论算法运行时间与输入规模之间的关系. 因为对于规模较小的输入, 几乎所有能用的算法都足够高效.\n",
    "# 一般对于规模特别大的输入, 才会担心算法的效率. 作为一种对\"特别大\"的表示法, 渐进表示法描述了输入规模趋近于无穷大时的算法复杂度.\n",
    "\n",
    "def f(x: int):\n",
    "    \"\"\"假设x是正整数\"\"\"\n",
    "    ans = 0\n",
    "    # 常数时间循环\n",
    "    for _i in range(1000):   # 常数1000\n",
    "        ans += 1\n",
    "    print(\"常数1000:\", ans)\n",
    "\n",
    "    # x时间循环\n",
    "    for _ in range(x):\n",
    "        ans += 1\n",
    "    print(\"线性变量x:\", ans)\n",
    "\n",
    "    # x**2时间循环\n",
    "    for _ in range(x):\n",
    "        for _ in range(x):\n",
    "            ans += 1\n",
    "            ans += 1\n",
    "    print(\"幂函数型:\", ans)\n",
    "\n",
    "\n",
    "f(1000)\n"
   ]
  },
  {
   "cell_type": "code",
   "execution_count": null,
   "metadata": {},
   "outputs": [],
   "source": [
    "# 以上, 如果执行每行代码需要一个单位时间, 那么这个f函数的运行时间可以描述为1000+ x + 2*x**2.\n",
    "# 使用渐进法考虑, 当具有一个很大很大的x被传入, 那么占执行步数比例最大的是2*x**2, 这个函数就是与2*x**2相关.\n",
    "# 通过上面的分析, 可以使用如下规则描述算法的渐近复杂度\n",
    "#    如果运行时间是一个多项式的和, 那么保留增长速度最快的项(导数最大), 去掉其他各项\n",
    "#    如果剩下的项是个乘积, 那么去掉所有常数\n",
    "# 使用大O表示上面的复杂度: O(x**2), 表示会执行x**2步, 去掉常数了, 有常数和没常数都不影响判断--这个计算有点耗.\n",
    "\n",
    "# 一些重要的复杂度\n",
    "\n",
    "\"\"\"\n",
    "O(1)     表示常数运行时间\n",
    "O(logn)  表示对数运行时间\n",
    "O(n)     表示线性运行时间\n",
    "O(nlogn) 表示对数线性运行时间\n",
    "O(n**k)  表示多项式运行时间, k为常数\n",
    "O(c**n)  表示指数运行时间, c为常数\n",
    "\n",
    "\"\"\""
   ]
  },
  {
   "cell_type": "code",
   "execution_count": 3,
   "metadata": {},
   "outputs": [],
   "source": [
    "# 对数复杂度\n",
    "\n",
    "# 对于对数复杂度的计算, 它的增长速度至少是某个输入的对数. \n",
    "# 例如: 二分查找的复杂度就是待搜索列表的长度的对数.\n",
    "# 一般不关心对数的底数, 因为对于某个对数来说, 使用另一个底数的区别只相当于将原来的底数的对数乘以一个常数.\n",
    "# 例如:　O(log₂(x)) = O(log₂(x)*log₁₀(x))\n",
    "\n",
    "def int2str(i: int) -> str:\n",
    "    \"\"\"假设i是一个非负整数\n",
    "       返回一个表示i的十进制字符串\n",
    "    \"\"\"\n",
    "    digits = \"0123456789\"\n",
    "    if i == 0:\n",
    "        return '0'\n",
    "    result = str()\n",
    "    while i>0:\n",
    "        result = digits[i%10] + result\n",
    "        i = i//10\n",
    "    return result\n",
    "\n",
    "\n",
    "# 以上这段代码中, 没有调用其他函数和方法, 所以只需要检查循环语句即可确定复杂度的等级.\n",
    "# 代码中只有一个循环, 所以只需要找出迭代次数. 迭代次数就是一直用i整除10, 在结果为0之前能够做的整数除法的次数.\n",
    "# 所以以上函数的复杂度为 O(log(i))\n",
    "\n",
    "def add_digits(n: int) -> int:\n",
    "    \"\"\"假设n是非负整数\n",
    "       返回n中每个数字之和\n",
    "    \"\"\"\n",
    "    string_rep = int2str(n)\n",
    "    val = 0\n",
    "    for c in string_rep:\n",
    "        val += int(c)\n",
    "    return val\n",
    "\n",
    "# 使用int2str将n转换为字符串的复杂度为O(log(n)), int2str会返回一个长度为O(log(n))的字符串. \n",
    "# for循环会被执行O(len(string_reg))次, 也就是O(log(n))次. \n",
    "# 综合以上信息, 再假设将一个表示数字的字符转换为整数需要常数时间, 那么程序运行时间就与O(log(n))+O(log(n))成正比, 因此复杂度为 O(log(n))"
   ]
  },
  {
   "cell_type": "code",
   "execution_count": null,
   "metadata": {},
   "outputs": [],
   "source": [
    "# 线性复杂度"
   ]
  }
 ],
 "metadata": {
  "file_extension": ".py",
  "kernelspec": {
   "display_name": "Python 3.6.9 64-bit",
   "language": "python",
   "name": "python36964bitfb9f692e8e514c85ba1b188218249722"
  },
  "language_info": {
   "codemirror_mode": {
    "name": "ipython",
    "version": 3
   },
   "file_extension": ".py",
   "mimetype": "text/x-python",
   "name": "python",
   "nbconvert_exporter": "python",
   "pygments_lexer": "ipython3",
   "version": "3.6.9"
  },
  "mimetype": "text/x-python",
  "name": "python",
  "npconvert_exporter": "python",
  "pygments_lexer": "ipython3",
  "version": 3
 },
 "nbformat": 4,
 "nbformat_minor": 2
}
