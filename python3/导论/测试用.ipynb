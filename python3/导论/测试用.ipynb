{
 "nbformat": 4,
 "nbformat_minor": 2,
 "metadata": {
  "language_info": {
   "name": "python",
   "codemirror_mode": {
    "name": "ipython",
    "version": 3
   },
   "version": "3.6.9-final"
  },
  "orig_nbformat": 2,
  "file_extension": ".py",
  "mimetype": "text/x-python",
  "name": "python",
  "npconvert_exporter": "python",
  "pygments_lexer": "ipython3",
  "version": 3,
  "kernelspec": {
   "name": "python36964bitfb9f692e8e514c85ba1b188218249722",
   "display_name": "Python 3.6.9 64-bit"
  }
 },
 "cells": [
  {
   "cell_type": "code",
   "execution_count": 1,
   "metadata": {},
   "outputs": [
    {
     "name": "stdout",
     "output_type": "stream",
     "text": "2 1\n2\nFalse\n"
    }
   ],
   "source": [
    "\"\"\" and遍历所有, 并返回第一个碰到的False值, 当到最后一个时, 直接抛出; or返回第一个遇到的True值, 到最后也没遇到, 返回False.\n",
    "    赋值运算的优先级很低, 应该和','运算符差球不多, 赋值从右向左运算, a=b== 1 and 2, 先运算b==1, 返回1, 然后运算1 and 2, 返回最后一个2\n",
    " \"\"\"\n",
    "b = 1\n",
    "a = b == 1 and 2\n",
    "print(a, b)\n",
    "print(1 and 2)\n",
    "print(1 and 2 == True)"
   ]
  },
  {
   "cell_type": "code",
   "execution_count": null,
   "metadata": {},
   "outputs": [],
   "source": []
  }
 ]
}