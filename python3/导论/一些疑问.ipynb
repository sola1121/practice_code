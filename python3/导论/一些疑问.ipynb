{
 "nbformat": 4,
 "nbformat_minor": 2,
 "metadata": {
  "language_info": {
   "name": "python",
   "codemirror_mode": {
    "name": "ipython",
    "version": 3
   },
   "version": "3.6.9-final"
  },
  "orig_nbformat": 2,
  "file_extension": ".py",
  "mimetype": "text/x-python",
  "name": "python",
  "npconvert_exporter": "python",
  "pygments_lexer": "ipython3",
  "version": 3,
  "kernelspec": {
   "name": "python36964bitfb9f692e8e514c85ba1b188218249722",
   "display_name": "Python 3.6.9 64-bit"
  }
 },
 "cells": [
  {
   "cell_type": "code",
   "execution_count": 1,
   "metadata": {},
   "outputs": [
    {
     "name": "stdout",
     "output_type": "stream",
     "text": "2 1\n2\nFalse\n"
    }
   ],
   "source": [
    "\"\"\" and遍历所有, 并返回第一个碰到的False值, 当到最后一个时, 直接抛出; or返回第一个遇到的True值, 到最后也没遇到, 返回False.\n",
    "    赋值运算的优先级很低, 应该和','运算符差球不多, 赋值从右向左运算, a=b== 1 and 2, 先运算b==1, 返回1, 然后运算1 and 2, 返回最后一个2\n",
    " \"\"\"\n",
    "b = 1\n",
    "a = b == 1 and 2\n",
    "print(a, b)\n",
    "print(1 and 2)\n",
    "print(1 and 2 == True)"
   ]
  },
  {
   "cell_type": "code",
   "execution_count": 1,
   "metadata": {},
   "outputs": [
    {
     "name": "stdout",
     "output_type": "stream",
     "text": "<class 'tuple'>\n"
    }
   ],
   "source": [
    "def 不写括号连着写返回值_其类型是什么():\n",
    "    return 2, 3, 4\n",
    "\n",
    "类型容器 = 不写括号连着写返回值_其类型是什么()\n",
    "print(type(类型容器))"
   ]
  },
  {
   "cell_type": "code",
   "execution_count": 4,
   "metadata": {},
   "outputs": [
    {
     "name": "stdout",
     "output_type": "stream",
     "text": "<class 'int'> <class 'type'>\n"
    }
   ],
   "source": [
    "a = int(0)\n",
    "b = type(a)\n",
    "print(b, type(b))"
   ]
  },
  {
   "cell_type": "code",
   "execution_count": 10,
   "metadata": {},
   "outputs": [
    {
     "name": "stdout",
     "output_type": "stream",
     "text": "am 140015662556488    传入函数 140015662556488\nbm 140016320647240    传入函数 140016320647240\n"
    }
   ],
   "source": [
    "def 查看传入list(list: a):\n",
    "    return id(a)\n",
    "\n",
    "def 查看传入tuple(tuple: b):\n",
    "    return id(b)\n",
    "\n",
    "a = list(); b = tuple()\n",
    "\n",
    "print(\"am\", id(a), \"   传入函数\", 查看传入list(a))\n",
    "print(\"bm\", id(b), \"   传入函数\", 查看传入tuple(b))\n"
   ]
  },
  {
   "cell_type": "code",
   "execution_count": 5,
   "metadata": {},
   "outputs": [
    {
     "name": "stdout",
     "output_type": "stream",
     "text": "dict_keys(['a', 'b', 'c'])\ndict_values(['111', '222', '333'])\ndict_items([('a', '111'), ('b', '222'), ('c', '333')])\n"
    }
   ],
   "source": [
    "dict_object = {\"a\": \"111\", \"b\": \"222\", \"c\": \"333\"}\n",
    "# print(dict_object[2]) # 并不能输出, 因为字典是无序的\n",
    "print(dict_object.keys())\n",
    "print(dict_object.values())\n",
    "print(dict_object.items())"
   ]
  },
  {
   "cell_type": "code",
   "execution_count": 4,
   "metadata": {},
   "outputs": [
    {
     "name": "stdout",
     "output_type": "stream",
     "text": "13\n13\n13\n单个的实例元素呢?\n0\n1\n12\n"
    }
   ],
   "source": [
    "\"\"\"\n",
    "探究下在类中的类元素, 在变成实例后, 其改变情况\n",
    "\"\"\"\n",
    "class experiment:\n",
    "    number = 0\n",
    "    def __init__(self):\n",
    "        self.instance_number = experiment.number\n",
    "        experiment.number += 1\n",
    "\n",
    "instance_1 = experiment()\n",
    "instance_2 = experiment()\n",
    "experiment.number += 10\n",
    "instance_3 = experiment()\n",
    "\n",
    "print(instance_1.number)\n",
    "print(instance_2.number)\n",
    "print(instance_3.number)\n",
    "print(\"单个的实例元素呢?\")\n",
    "print(instance_1.instance_number)\n",
    "print(instance_2.instance_number)\n",
    "print(instance_3.instance_number)"
   ]
  },
  {
   "cell_type": "code",
   "execution_count": null,
   "metadata": {},
   "outputs": [],
   "source": [
    "# 循环时, 如果将使用的列表中的元素给移除了, 会造成什么影响\n",
    "lst = [1,2,3,4,5,6]\n",
    "\n",
    "for i in lst:\n",
    "    print(\"当前元素: \", i)\n",
    "    if i == 2:\n",
    "        lst.remove(i)\n",
    "    print(lst)\n",
    "\n",
    "# 会跳过对后一个元素的检查"
   ]
  }
 ]
}