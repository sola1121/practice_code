{
 "cells": [
  {
   "cell_type": "code",
   "execution_count": 5,
   "metadata": {},
   "outputs": [
    {
     "name": "stdout",
     "output_type": "stream",
     "text": [
      "1\n",
      "100\n",
      "1100\n",
      "2\n",
      "100\n",
      "1100\n",
      "3\n",
      "100\n",
      "1100\n",
      "4\n",
      "100\n",
      "1100\n",
      "5\n",
      "100\n",
      "1100\n",
      "6\n",
      "100\n",
      "1100\n",
      "7\n",
      "100\n",
      "1100\n",
      "8\n",
      "100\n",
      "1100\n",
      "9\n",
      "100\n",
      "1100\n"
     ]
    }
   ],
   "source": [
    "# python 的break, continue是跳出内层循环\n",
    "for i in range(1, 10):\n",
    "    print(i)\n",
    "    for x in range(100, 110):\n",
    "        print(x)\n",
    "        break\n",
    "    # break\n",
    "    print(x + 1000)"
   ]
  },
  {
   "cell_type": "code",
   "execution_count": 3,
   "metadata": {},
   "outputs": [
    {
     "ename": "SyntaxError",
     "evalue": "EOL while scanning string literal (<ipython-input-3-983146126952>, line 5)",
     "output_type": "error",
     "traceback": [
      "\u001b[0;36m  File \u001b[0;32m\"<ipython-input-3-983146126952>\"\u001b[0;36m, line \u001b[0;32m5\u001b[0m\n\u001b[0;31m    print(\"第二个elif)\u001b[0m\n\u001b[0m                   ^\u001b[0m\n\u001b[0;31mSyntaxError\u001b[0m\u001b[0;31m:\u001b[0m EOL while scanning string literal\n"
     ]
    }
   ],
   "source": [
    "c = 65\n",
    "if c>122:\n",
    "    print(\"第一个if\")\n",
    "elif c>90:\n",
    "    print(\"第二个elif)\n"
   ]
  },
  {
   "cell_type": "code",
   "execution_count": null,
   "metadata": {},
   "outputs": [],
   "source": []
  }
 ],
 "metadata": {
  "kernelspec": {
   "display_name": "Python 3",
   "language": "python",
   "name": "python3"
  },
  "language_info": {
   "codemirror_mode": {
    "name": "ipython",
    "version": 3
   },
   "file_extension": ".py",
   "mimetype": "text/x-python",
   "name": "python",
   "nbconvert_exporter": "python",
   "pygments_lexer": "ipython3",
   "version": "3.6.9-final"
  }
 },
 "nbformat": 4,
 "nbformat_minor": 2
}